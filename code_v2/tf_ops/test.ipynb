{
 "cells": [
  {
   "cell_type": "code",
   "execution_count": 1,
   "id": "molecular-fairy",
   "metadata": {},
   "outputs": [
    {
     "name": "stdout",
     "output_type": "stream",
     "text": [
      "WARNING:tensorflow:From /home/wuhang/anaconda3/envs/py3/lib/python3.7/site-packages/tensorflow/python/compat/v2_compat.py:96: disable_resource_variables (from tensorflow.python.ops.variable_scope) is deprecated and will be removed in a future version.\n",
      "Instructions for updating:\n",
      "non-resource variables are not supported in the long term\n"
     ]
    }
   ],
   "source": [
    "import numpy as np\n",
    "import tensorflow.compat.v1 as tf\n",
    "tf.disable_v2_behavior()\n",
    "import sys,os\n",
    "from sample_group import tf_sample_group"
   ]
  },
  {
   "cell_type": "code",
   "execution_count": 2,
   "id": "boring-philadelphia",
   "metadata": {},
   "outputs": [
    {
     "name": "stdout",
     "output_type": "stream",
     "text": [
      "(1, 938, 3)\n"
     ]
    }
   ],
   "source": [
    "points_2d = np.load('a_points_2d.npy')\n",
    "point_cloud = np.array([points_2d])\n",
    "print (np.shape(point_cloud))\n",
    "pc = tf.placeholder(tf.float32, [1, None, 3], 'inputs_part')\n",
    "#core_id_all, core_pts_all = farthest_point_sample_all(3, pc)\n",
    "core_id, core_pts = tf_sample_group.farthest_point_sample(pc, 16, radius=0.2, min_point=6)\n",
    "cores, radius, local, cnt = tf_sample_group.sample_group(pc, 16, radius=0.2, min_point=6)\n",
    "config = tf.ConfigProto()\n",
    "config.gpu_options.allow_growth = True\n",
    "sess = tf.InteractiveSession(config=config)\n",
    "sess.run(tf.global_variables_initializer())"
   ]
  },
  {
   "cell_type": "code",
   "execution_count": 3,
   "id": "handmade-limit",
   "metadata": {},
   "outputs": [
    {
     "data": {
      "image/png": "[encoded data removed]",
      "text/plain": [
       "<Figure size 432x288 with 1 Axes>"
      ]
     },
     "metadata": {},
     "output_type": "display_data"
    }
   ],
   "source": [
    "output1,output2,output3,output4,output5,output6 = sess.run([core_id, core_pts, cores, radius, local, cnt], \n",
    "                                                           feed_dict={pc:point_cloud})\n",
    "import matplotlib.pyplot as plt\n",
    "%matplotlib inline\n",
    "def draw_circle(center,r,plt):\n",
    "    theta = np.arange(0, 2*np.pi, 0.01)\n",
    "    x = center[0]+r*np.cos(theta)\n",
    "    y = center[1]+r*np.sin(theta)\n",
    "    plt.plot(x,y, color='green',linewidth=0.3,linestyle=\"--\")\n",
    "    plt.scatter(center[0], center[1], s=3, marker='o', c='green')\n",
    "    \n",
    "plt.axis('scaled')\n",
    "plt.xlim(-1.29,1.29)\n",
    "plt.ylim(-1.28,1.28)\n",
    "plt.xticks(())\n",
    "plt.yticks(())    \n",
    "\n",
    "#plt.xticks(())\n",
    "#plt.yticks(())\n",
    "plt.scatter(points_2d[:,0], points_2d[:,1], s=1, marker='.', c='y')\n",
    "\n",
    "for i in range (16):\n",
    "    draw_circle(output3[0,i],output4[0,i],plt)\n",
    "\n",
    "plt.axis('off')\n",
    "plt.show()"
   ]
  },
  {
   "cell_type": "code",
   "execution_count": 4,
   "id": "existing-quick",
   "metadata": {},
   "outputs": [
    {
     "name": "stdout",
     "output_type": "stream",
     "text": [
      "Time: 0.0022056102752685547 s.\n"
     ]
    }
   ],
   "source": [
    "import time\n",
    "t0 = time.time()\n",
    "output5,output6 = sess.run([local, cnt],feed_dict={pc:point_cloud})\n",
    "print (\"Time: %s s.\"%(time.time()-t0))"
   ]
  },
  {
   "cell_type": "code",
   "execution_count": 5,
   "id": "boring-council",
   "metadata": {},
   "outputs": [
    {
     "name": "stdout",
     "output_type": "stream",
     "text": [
      "[name: \"/device:GPU:0\"\n",
      "device_type: \"GPU\"\n",
      "memory_limit: 15370281280\n",
      "locality {\n",
      "  bus_id: 1\n",
      "  links {\n",
      "  }\n",
      "}\n",
      "incarnation: 12210021035014116280\n",
      "physical_device_desc: \"device: 0, name: GeForce RTX 3080 Laptop GPU, pci bus id: 0000:01:00.0, compute capability: 8.6\"\n",
      "]\n"
     ]
    }
   ],
   "source": [
    "from tensorflow.python.client import device_lib\n",
    "local_device_protos = device_lib.list_local_devices()\n",
    "gpu_name = [x for x in local_device_protos if x.device_type == 'GPU']\n",
    "print (gpu_name)"
   ]
  },
  {
   "cell_type": "code",
   "execution_count": null,
   "id": "naked-capability",
   "metadata": {},
   "outputs": [],
   "source": []
  }
 ],
 "metadata": {
  "kernelspec": {
   "display_name": "Python 3",
   "language": "python",
   "name": "python3"
  },
  "language_info": {
   "codemirror_mode": {
    "name": "ipython",
    "version": 3
   },
   "file_extension": ".py",
   "mimetype": "text/x-python",
   "name": "python",
   "nbconvert_exporter": "python",
   "pygments_lexer": "ipython3",
   "version": "3.7.10"
  }
 },
 "nbformat": 4,
 "nbformat_minor": 5
}
